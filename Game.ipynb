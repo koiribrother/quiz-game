{
 "cells": [
  {
   "cell_type": "code",
   "execution_count": 17,
   "id": "0aa74ad8",
   "metadata": {},
   "outputs": [
    {
     "name": "stdout",
     "output_type": "stream",
     "text": [
      "What color are Nepal flag?\n",
      "(a) Red/blue/white\n",
      "(b)Greena\n",
      "How many colors are mixed in Nepal Flag?\n",
      "(a) 2\n",
      "(b)3b\n",
      "you got 2 out of 2\n"
     ]
    }
   ],
   "source": [
    "#  multiple choice choice in python\n",
    "\n",
    "class Question:\n",
    "     def __init__(self, prompt, answer):\n",
    "          self.prompt = prompt\n",
    "          self.answer = answer\n",
    "\n",
    "question_prompts = [\n",
    "     \"What color are Nepal flag?\\n(a) Red/blue/white\\n(b)Green\",\n",
    "     \"How many colors are mixed in Nepal Flag?\\n(a) 2\\n(b)3\",\n",
    "]\n",
    "\n",
    "questions = [\n",
    "     Question(question_prompts[0], \"a\"),\n",
    "     Question(question_prompts[1], \"b\"),\n",
    "]\n",
    "\n",
    "def run_quiz(questions):\n",
    "     score = 0\n",
    "     for question in questions:\n",
    "          answer = input(question.prompt)\n",
    "          if answer == question.answer:\n",
    "               score += 1\n",
    "     print(\"you got\", score, \"out of\", len(questions))\n",
    "\n",
    "run_quiz(questions)\n",
    "\n",
    "\n"
   ]
  },
  {
   "cell_type": "code",
   "execution_count": 18,
   "id": "f48bb8cd",
   "metadata": {},
   "outputs": [
    {
     "name": "stdout",
     "output_type": "stream",
     "text": [
      "Enter a guess: india\n",
      "Enter a guess: china\n",
      "Enter a guess: nepal\n",
      "You Win!\n"
     ]
    }
   ],
   "source": [
    "# Guessing game\n",
    "\n",
    "secret_word = \"nepal\"\n",
    "guess = \"\"\n",
    "guess_count = 0\n",
    "guess_limit = 3\n",
    "out_of_guesses = False\n",
    "\n",
    "while guess != secret_word and not(out_of_guesses):\n",
    "     if guess_count < guess_limit:\n",
    "          guess = input(\"Enter a guess: \")\n",
    "          guess_count += 1\n",
    "     else:\n",
    "          out_of_guesses = True\n",
    "\n",
    "if out_of_guesses:\n",
    "     print(\"You Lose!\")\n",
    "else:\n",
    "     print(\"You Win!\")\n"
   ]
  },
  {
   "cell_type": "code",
   "execution_count": null,
   "id": "c829feef",
   "metadata": {},
   "outputs": [],
   "source": []
  },
  {
   "cell_type": "code",
   "execution_count": null,
   "id": "12644229",
   "metadata": {},
   "outputs": [],
   "source": []
  }
 ],
 "metadata": {
  "kernelspec": {
   "display_name": "Python 3 (ipykernel)",
   "language": "python",
   "name": "python3"
  },
  "language_info": {
   "codemirror_mode": {
    "name": "ipython",
    "version": 3
   },
   "file_extension": ".py",
   "mimetype": "text/x-python",
   "name": "python",
   "nbconvert_exporter": "python",
   "pygments_lexer": "ipython3",
   "version": "3.9.12"
  }
 },
 "nbformat": 4,
 "nbformat_minor": 5
}
